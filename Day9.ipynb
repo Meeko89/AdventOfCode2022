{
 "cells": [
  {
   "cell_type": "code",
   "execution_count": 2,
   "metadata": {},
   "outputs": [
    {
     "data": {
      "text/plain": [
       "read_moves (generic function with 1 method)"
      ]
     },
     "execution_count": 2,
     "metadata": {},
     "output_type": "execute_result"
    }
   ],
   "source": [
    "function read_moves(filename)\n",
    "    content = []\n",
    "    f = open(filename)\n",
    "    \n",
    "    for line in readlines(f)\n",
    "        dir = string(line[1])\n",
    "        steps = parse(Int, string(line[3:length(line)]))\n",
    "        push!(content, Dict(\"dir\" => dir, \"steps\" => steps))\n",
    "    end\n",
    "    return content\n",
    "end\n"
   ]
  },
  {
   "cell_type": "code",
   "execution_count": 3,
   "metadata": {},
   "outputs": [
    {
     "data": {
      "text/plain": [
       "move_tail (generic function with 1 method)"
      ]
     },
     "execution_count": 3,
     "metadata": {},
     "output_type": "execute_result"
    }
   ],
   "source": [
    "function move_tail(head, tail)\n",
    "    # println()\n",
    "    # println(head, tail)\n",
    "    # println(head[1]-tail[1], head[2]-tail[2])\n",
    "    if head[1] - tail[1] == 2 && head[2] - tail[2] == 1 ||\n",
    "         head[1] - tail[1] == 1 && head[2] - tail[2] ==  2 ||\n",
    "         head[1] - tail[1] == 2 && head[2] - tail[2] ==  2\n",
    "        # println(1)\n",
    "        tail[1] += 1\n",
    "        tail[2] += 1\n",
    "    elseif head[1] - tail[1] == -2 && head[2] - tail[2] == -1 ||\n",
    "        head[1] - tail[1] == -1 && head[2] - tail[2] ==  -2 ||\n",
    "        head[1] - tail[1] == -2 && head[2] - tail[2] ==  -2\n",
    "        # println(2)\n",
    "        tail[1] -= 1\n",
    "        tail[2] -= 1\n",
    "    elseif head[1] - tail[1] == 2 && head[2] - tail[2] == -1 ||\n",
    "        head[1] - tail[1] == 1 && head[2] - tail[2] ==  -2 ||\n",
    "        head[1] - tail[1] == 2 && head[2] - tail[2] ==  -2\n",
    "        # println(3)\n",
    "        tail[1] += 1\n",
    "        tail[2] -= 1\n",
    "    elseif head[1] - tail[1] == -2 && head[2] - tail[2] == 1 ||\n",
    "        head[1] - tail[1] == -1 && head[2] - tail[2] ==  2 ||\n",
    "        head[1] - tail[1] == -2 && head[2] - tail[2] ==  2\n",
    "        # println(4)\n",
    "        tail[1] -= 1\n",
    "        tail[2] += 1\n",
    "    elseif abs(head[1] - tail[1]) > 1\n",
    "        # println(5)\n",
    "        tail[1] += Int(abs(head[1] - tail[1]) / (head[1] - tail[1]))\n",
    "    elseif abs(head[2] - tail[2]) > 1\n",
    "        # println(6)\n",
    "        tail[2] += Int(abs(head[2] - tail[2]) / (head[2] - tail[2]))\n",
    "    end\n",
    "end"
   ]
  },
  {
   "cell_type": "code",
   "execution_count": 4,
   "metadata": {},
   "outputs": [
    {
     "data": {
      "text/plain": [
       "move_head (generic function with 1 method)"
      ]
     },
     "execution_count": 4,
     "metadata": {},
     "output_type": "execute_result"
    }
   ],
   "source": [
    "function move_head(dir, head)\n",
    "    if dir == \"R\"\n",
    "        head[2] += 1\n",
    "    elseif dir == \"L\"\n",
    "        head[2] -= 1\n",
    "    elseif dir == \"U\"\n",
    "        head[1] += 1\n",
    "    elseif dir == \"D\"\n",
    "        head[1] -= 1\n",
    "    end\n",
    "end"
   ]
  },
  {
   "cell_type": "code",
   "execution_count": 5,
   "metadata": {},
   "outputs": [
    {
     "data": {
      "text/plain": [
       "print_head_tail (generic function with 1 method)"
      ]
     },
     "execution_count": 5,
     "metadata": {},
     "output_type": "execute_result"
    }
   ],
   "source": [
    "function print_head_tail(head, tail, visited)\n",
    "    max_r = max(head[1], tail[1][1], tail[2][1], tail[3][1], tail[4][1], tail[5][1], tail[6][1], tail[7][1], tail[8][1], tail[9][1])\n",
    "    min_r = min(head[1], tail[1][1], tail[2][1], tail[3][1], tail[4][1], tail[5][1], tail[6][1], tail[7][1], tail[8][1], tail[9][1])\n",
    "    \n",
    "    max_k = max(head[2], tail[1][2], tail[2][2], tail[3][2], tail[4][2], tail[5][2], tail[6][2], tail[7][2], tail[8][2], tail[9][2])\n",
    "    min_k = min(head[2], tail[1][2], tail[2][2], tail[3][2], tail[4][2], tail[5][2], tail[6][2], tail[7][2], tail[8][2], tail[9][2])\n",
    "    \n",
    "\n",
    "    for (point, value) in visited\n",
    "        min_r = min(point[1], min_r)\n",
    "        max_r = max(point[1], max_r)\n",
    "        min_k = min(point[2], min_k)\n",
    "        max_k = max(point[2], max_k)\n",
    "    end\n",
    "    dim_r = max_r + abs(min_r) + 1\n",
    "    dim_k = max_k + abs(min_k) + 1 \n",
    "    # println(\"dim_r = \", max_r, \" + \", abs(min_r), \" + \", 1, \" = \", dim_r)\n",
    "    # println(\"dim_k = \", max_k, \" + \", abs(min_k), \" + \", 1, \" = \", dim_k)\n",
    "    \n",
    "    dim = max(dim_r, dim_k)\n",
    "    knot_map = Array{Char}(undef, dim, dim)\n",
    "    for r in 1:dim\n",
    "        for k in 1:dim\n",
    "            knot_map[r,k] = '.'\n",
    "        end\n",
    "    end\n",
    "    shift_k = 0\n",
    "    if min_k < 1 \n",
    "        shift_k = abs(min_k) + 1\n",
    "    end\n",
    "    shift_r = 0\n",
    "    if min_r < 1\n",
    "        shift_r = abs(min_r) + 1\n",
    "    end\n",
    "    for (point, value) in visited\n",
    "        knot_map[point[1]+shift_r, point[2]+shift_k] = '#'\n",
    "    end\n",
    "\n",
    "    # println(\"\\n\", head, tail)\n",
    "    # println(size(knot_map))\n",
    "    for i in length(tail):-1:1\n",
    "        knot_map[tail[i][1]+shift_r, tail[i][2]+shift_k] = string(i)[1]\n",
    "    end\n",
    "    knot_map[head[1]+shift_r, head[2]+shift_k] = 'H'\n",
    "    println()\n",
    "    for r in dim:-1:1\n",
    "        for k in 1:dim\n",
    "            print(knot_map[r, k])\n",
    "        end\n",
    "        println()\n",
    "    end\n",
    "end"
   ]
  },
  {
   "cell_type": "code",
   "execution_count": 6,
   "metadata": {},
   "outputs": [
    {
     "name": "stdout",
     "output_type": "stream",
     "text": [
      "6332\n"
     ]
    }
   ],
   "source": [
    "# Day 9 Part 1\n",
    "\n",
    "input_file = \"data/day9_data.txt\"\n",
    "# input_file = \"data/day9_test.txt\"\n",
    "DIR = \"dir\"\n",
    "STEPS = \"steps\"\n",
    "moves = read_moves(input_file)\n",
    "\n",
    "visited = Dict()\n",
    "\n",
    "\n",
    "# [x, y]\n",
    "head = [1, 1]\n",
    "tail = [1, 1]\n",
    "visited[tail] = true\n",
    "# println(\"\\n== START ==\")\n",
    "# print_head_tail(head, tail, visited)\n",
    "for move in moves \n",
    "    # println(\"\\n== \", move[DIR], \" \", move[STEPS], \" ==\")\n",
    "    for steps in 1:move[STEPS]\n",
    "        # print(\"Head: \", head)\n",
    "        move_head(move[DIR], head)\n",
    "        # println( \" => \", head)\n",
    "        # print(\"Tail: \", tail)\n",
    "        move_tail(head, tail)\n",
    "        # println(\" => \", tail)\n",
    "        # print_head_tail(head, [tail], visited)\n",
    "        visited[copy(tail)] = true\n",
    "    end\n",
    "end\n",
    "println(length(visited))\n"
   ]
  },
  {
   "cell_type": "code",
   "execution_count": 8,
   "metadata": {},
   "outputs": [
    {
     "name": "stdout",
     "output_type": "stream",
     "text": [
      "2511\n"
     ]
    }
   ],
   "source": [
    "# Day 9 Part 2\n",
    "\n",
    "input_file = \"data/day9_data.txt\"\n",
    "# input_file = \"data/day9_test.txt\"\n",
    "DIR = \"dir\"\n",
    "STEPS = \"steps\"\n",
    "moves = read_moves(input_file)\n",
    "\n",
    "visited = Dict()\n",
    "\n",
    "\n",
    "# [x, y]\n",
    "head = [1, 1]\n",
    "tail = []\n",
    "for i in 1:9\n",
    "    push!(tail, copy(head))\n",
    "end\n",
    "visited[tail[1]] = true\n",
    "# println(\"\\n== START ==\")\n",
    "# print_head_tail(head, tail, visited)\n",
    "for move in moves \n",
    "    # println(\"\\n== \", move[DIR], \" \", move[STEPS], \" ==\")\n",
    "    for steps in 1:move[STEPS]\n",
    "        # print(\"Head: \", head)\n",
    "        move_head(move[DIR], head)\n",
    "        # println( \" => \", head)\n",
    "        # print(\"Tail: \", tail)\n",
    "        move_tail(head, tail[1])\n",
    "        for i in 2:length(tail)\n",
    "            move_tail(tail[i-1], tail[i])\n",
    "        end\n",
    "        # println(\" => \", tail)\n",
    "        # println(\"\\n----- \", move[DIR], \" \", steps)\n",
    "        # print_head_tail(head, tail, visited)\n",
    "        visited[copy(tail[9])] = true\n",
    "    end\n",
    "end\n",
    "println(length(visited))\n"
   ]
  }
 ],
 "metadata": {
  "kernelspec": {
   "display_name": "Julia 1.6.7",
   "language": "julia",
   "name": "julia-1.6"
  },
  "language_info": {
   "file_extension": ".jl",
   "mimetype": "application/julia",
   "name": "julia",
   "version": "1.6.7"
  },
  "orig_nbformat": 4,
  "vscode": {
   "interpreter": {
    "hash": "6e6c153b1f8581f5a503cb599a1fb433f4d3fe09258d2374dce9017af064904f"
   }
  }
 },
 "nbformat": 4,
 "nbformat_minor": 2
}
