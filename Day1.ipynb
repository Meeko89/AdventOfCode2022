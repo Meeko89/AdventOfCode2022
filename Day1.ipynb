{
 "cells": [
  {
   "cell_type": "code",
   "execution_count": 2,
   "id": "17a21d80",
   "metadata": {},
   "outputs": [
    {
     "data": {
      "text/plain": [
       "read_numbers (generic function with 1 method)"
      ]
     },
     "metadata": {},
     "output_type": "display_data"
    }
   ],
   "source": [
    "function read_numbers(filename)\n",
    "    content = []\n",
    "    f = open(filename)\n",
    "    \n",
    "    for line in readlines(f)\n",
    "        if isempty(line)\n",
    "            push!(content, 0)\n",
    "        else\n",
    "            push!(content, parse(Int64, line))\n",
    "        end\n",
    "    end\n",
    "    return content\n",
    "end"
   ]
  },
  {
   "cell_type": "code",
   "execution_count": 3,
   "id": "fe45ee65",
   "metadata": {},
   "outputs": [
    {
     "data": {
      "text/plain": [
       "sum_calories (generic function with 1 method)"
      ]
     },
     "metadata": {},
     "output_type": "display_data"
    }
   ],
   "source": [
    "function sum_calories(data)\n",
    "    sum = []\n",
    "    elf_sum = 0\n",
    "    for item in data\n",
    "        if item == 0\n",
    "            push!(sum, elf_sum)\n",
    "            elf_sum = 0 \n",
    "        else\n",
    "            elf_sum = elf_sum + item\n",
    "        end\n",
    "    end\n",
    "    push!(sum, elf_sum)\n",
    "    return sum\n",
    "end"
   ]
  },
  {
   "cell_type": "code",
   "execution_count": 6,
   "id": "fae63882",
   "metadata": {},
   "outputs": [
    {
     "name": "stdout",
     "output_type": "stream",
     "text": [
      "(69693, 10)"
     ]
    }
   ],
   "source": [
    "# Day 1 part 1\n",
    "# data = read_numbers(\"data/day1_test.txt\")\n",
    "data = read_numbers(\"data/day1_data.txt\")\n",
    "\n",
    "summ = sum_calories(data)\n",
    "print(findmax(summ))"
   ]
  },
  {
   "cell_type": "code",
   "execution_count": 8,
   "id": "fae63882",
   "metadata": {},
   "outputs": [
    {
     "name": "stdout",
     "output_type": "stream",
     "text": [
      "Any[69693, 66757, 64495]"
     ]
    },
    {
     "data": {
      "text/plain": [
       "200945"
      ]
     },
     "metadata": {},
     "output_type": "display_data"
    }
   ],
   "source": [
    "# Day 1 part 2\n",
    "# data = read_numbers(\"data/day1_test.txt\")\n",
    "data = read_numbers(\"data/day1_data.txt\")\n",
    "\n",
    "summ = sum_calories(data)\n",
    "top_elfs = []\n",
    "for i in 1:3\n",
    "    max_elf = findmax(summ)[1]\n",
    "    push!(top_elfs, max_elf)\n",
    "    filter!(e->e!=max_elf, summ)\n",
    "end\n",
    "\n",
    "print(top_elfs)\n",
    "sum(top_elfs)"
   ]
  }
 ],
 "metadata": {
  "kernelspec": {
   "display_name": "Julia 1.6.7",
   "language": "julia",
   "name": "julia-1.6"
  },
  "language_info": {
   "file_extension": ".jl",
   "mimetype": "application/julia",
   "name": "julia",
   "version": "1.6.7"
  }
 },
 "nbformat": 4,
 "nbformat_minor": 5
}
