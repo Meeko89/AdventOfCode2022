{
 "cells": [
  {
   "cell_type": "code",
   "execution_count": 6,
   "metadata": {},
   "outputs": [
    {
     "data": {
      "text/plain": [
       "read_buffer (generic function with 1 method)"
      ]
     },
     "execution_count": 6,
     "metadata": {},
     "output_type": "execute_result"
    }
   ],
   "source": [
    "function read_buffer(filename)\n",
    "    content = []\n",
    "    f = open(filename)\n",
    "    \n",
    "    for line in readlines(f)\n",
    "        line_content = String(line)\n",
    "        push!(content, line_content)\n",
    "    end\n",
    "    return content[1]\n",
    "end"
   ]
  },
  {
   "cell_type": "code",
   "execution_count": 12,
   "metadata": {},
   "outputs": [
    {
     "name": "stdout",
     "output_type": "stream",
     "text": [
      "1920, brmd\n",
      "DONE\n"
     ]
    }
   ],
   "source": [
    "# Day 6 part 1\n",
    "input = \"data/day6_data.txt\"\n",
    "# input = \"data/day6_test.txt\"\n",
    "\n",
    "buffer = read_buffer(input)\n",
    "for i in 4:length(buffer)\n",
    "    pack = buffer[i-3:i]\n",
    "    if length(Set(pack)) == 4\n",
    "        print(i, \", \")\n",
    "        println(pack)\n",
    "        break\n",
    "    end\n",
    "end\n",
    "println(\"DONE\")\n"
   ]
  },
  {
   "cell_type": "code",
   "execution_count": 15,
   "metadata": {},
   "outputs": [
    {
     "name": "stdout",
     "output_type": "stream",
     "text": [
      "2334, qtpdmfcwglnbjz\n",
      "DONE\n"
     ]
    }
   ],
   "source": [
    "# Day 6 part 2\n",
    "input = \"data/day6_data.txt\"\n",
    "# input = \"data/day6_test.txt\"\n",
    "\n",
    "buffer = read_buffer(input)\n",
    "for i in 14:length(buffer)\n",
    "    pack = buffer[i-13:i]\n",
    "    if length(Set(pack)) == 14\n",
    "        print(i, \", \")\n",
    "        println(pack)\n",
    "        break\n",
    "    end\n",
    "end\n",
    "println(\"DONE\")"
   ]
  }
 ],
 "metadata": {
  "kernelspec": {
   "display_name": "Julia 1.6.7",
   "language": "julia",
   "name": "julia-1.6"
  },
  "language_info": {
   "file_extension": ".jl",
   "mimetype": "application/julia",
   "name": "julia",
   "version": "1.6.7"
  },
  "orig_nbformat": 4,
  "vscode": {
   "interpreter": {
    "hash": "6e6c153b1f8581f5a503cb599a1fb433f4d3fe09258d2374dce9017af064904f"
   }
  }
 },
 "nbformat": 4,
 "nbformat_minor": 2
}
