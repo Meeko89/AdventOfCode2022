{
 "cells": [
  {
   "cell_type": "code",
   "execution_count": 10,
   "metadata": {},
   "outputs": [
    {
     "data": {
      "text/plain": [
       "read_supply_stacks (generic function with 1 method)"
      ]
     },
     "execution_count": 10,
     "metadata": {},
     "output_type": "execute_result"
    }
   ],
   "source": [
    "function read_supply_stacks(filename)\n",
    "    content = []\n",
    "    f = open(filename)\n",
    "    for line in readlines(f)\n",
    "        line_content = String(line)\n",
    "        push!(content, line_content)\n",
    "    end\n",
    "    stacks = []\n",
    "    directions = []\n",
    "    \n",
    "    idx = findall( x -> x == \"\", content)\n",
    "    stacks = arrange_stacks(content[1:idx[1]-1])\n",
    "    directions = content[idx[1]+1:length(content)]\n",
    "    \n",
    "    return stacks, directions\n",
    "end"
   ]
  },
  {
   "cell_type": "code",
   "execution_count": 21,
   "metadata": {},
   "outputs": [
    {
     "data": {
      "text/plain": [
       "arrange_stacks (generic function with 1 method)"
      ]
     },
     "execution_count": 21,
     "metadata": {},
     "output_type": "execute_result"
    }
   ],
   "source": [
    "function arrange_stacks(stack_drawing)\n",
    "    len = length(stack_drawing[1])\n",
    "    nb = parse(Int64, stack_drawing[length(stack_drawing)][len-1])\n",
    "    stacks = []\n",
    "    for i in 1:nb\n",
    "        push!(stacks, [])\n",
    "    end\n",
    "    for line in reverse(stack_drawing[1:length(stack_drawing)-1])\n",
    "        for i in 1:nb\n",
    "            box = line[(i-1)*4+2]\n",
    "            if box != ' '\n",
    "                push!(stacks[i], box) \n",
    "            end\n",
    "        end\n",
    "    end\n",
    "    return stacks\n",
    "end"
   ]
  },
  {
   "cell_type": "code",
   "execution_count": 31,
   "metadata": {},
   "outputs": [
    {
     "name": "stdout",
     "output_type": "stream",
     "text": [
      "QNHWJVJZW\n"
     ]
    }
   ],
   "source": [
    "# Day 5 part 1 \n",
    "input = \"data/day5_data.txt\"\n",
    "# input = \"data/day5_test.txt\"\n",
    "stacks, directions = read_supply_stacks(input)\n",
    "\n",
    "# println(stacks)\n",
    "# println(directions)\n",
    "\n",
    "myregex = r\"move ([0-9]+) from ([0-9]+) to ([0-9]+)\"\n",
    "for dir in directions\n",
    "    res = match(myregex, dir)\n",
    "    amount = parse(Int64, res.captures[1])\n",
    "    from = parse(Int64, res.captures[2])\n",
    "    to = parse(Int64, res.captures[3])\n",
    "    # println(dir)\n",
    "    for i in 1:amount \n",
    "        box = pop!(stacks[from])\n",
    "        push!(stacks[to], box)\n",
    "        # println(stacks)\n",
    "    end\n",
    "end \n",
    "for stack in stacks\n",
    "    print(last(stack))\n",
    "end\n",
    "println()"
   ]
  },
  {
   "cell_type": "code",
   "execution_count": 33,
   "metadata": {},
   "outputs": [
    {
     "name": "stdout",
     "output_type": "stream",
     "text": [
      "BPCZJLFJW\n"
     ]
    }
   ],
   "source": [
    "# Day 5 part 2\n",
    "input = \"data/day5_data.txt\"\n",
    "# input = \"data/day5_test.txt\"\n",
    "stacks, directions = read_supply_stacks(input)\n",
    "\n",
    "\n",
    "myregex = r\"move ([0-9]+) from ([0-9]+) to ([0-9]+)\"\n",
    "for dir in directions\n",
    "    res = match(myregex, dir)\n",
    "    amount = parse(Int64, res.captures[1])\n",
    "    from = parse(Int64, res.captures[2])\n",
    "    to = parse(Int64, res.captures[3])\n",
    "    intermediate = []\n",
    "    for i in 1:amount \n",
    "        box = pop!(stacks[from])\n",
    "        push!(intermediate, box)\n",
    "    end\n",
    "    for i in 1:amount\n",
    "        box = pop!(intermediate)\n",
    "        push!(stacks[to], box)\n",
    "    end\n",
    "end \n",
    "for stack in stacks\n",
    "    print(last(stack))\n",
    "end\n",
    "println()"
   ]
  }
 ],
 "metadata": {
  "kernelspec": {
   "display_name": "Julia 1.6.7",
   "language": "julia",
   "name": "julia-1.6"
  },
  "language_info": {
   "file_extension": ".jl",
   "mimetype": "application/julia",
   "name": "julia",
   "version": "1.6.7"
  },
  "orig_nbformat": 4,
  "vscode": {
   "interpreter": {
    "hash": "6e6c153b1f8581f5a503cb599a1fb433f4d3fe09258d2374dce9017af064904f"
   }
  }
 },
 "nbformat": 4,
 "nbformat_minor": 2
}
