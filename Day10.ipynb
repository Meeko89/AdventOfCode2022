{
 "cells": [
  {
   "cell_type": "code",
   "execution_count": 1,
   "metadata": {},
   "outputs": [
    {
     "data": {
      "text/plain": [
       "read_cmds (generic function with 1 method)"
      ]
     },
     "execution_count": 1,
     "metadata": {},
     "output_type": "execute_result"
    }
   ],
   "source": [
    "function read_cmds(filename)\n",
    "    content = []\n",
    "    f = open(filename)\n",
    "    \n",
    "    for line in readlines(f)\n",
    "        push!(content,string(line))\n",
    "    end\n",
    "    return content\n",
    "end"
   ]
  },
  {
   "cell_type": "code",
   "execution_count": 7,
   "metadata": {},
   "outputs": [
    {
     "name": "stdout",
     "output_type": "stream",
     "text": [
      "Any[200, 1020, 2100, 5460, 3780, 4620]\n",
      "17180\n"
     ]
    }
   ],
   "source": [
    "# Day 10 part 1\n",
    "\n",
    "input_file = \"data/day10_data.txt\"\n",
    "# input_file = \"data/day10_test.txt\"\n",
    "\n",
    "prog = read_cmds(input_file)\n",
    "\n",
    "next_cycle = 20\n",
    "signal_strengths = []\n",
    "cycle = 1\n",
    "X = 1\n",
    "\n",
    "for cmd in prog\n",
    "    value = 0\n",
    "    if cmd == \"noop\"\n",
    "        value = 0\n",
    "    else\n",
    "        value = parse(Int64, cmd[5:length(cmd)])\n",
    "        cycle += 1\n",
    "    end\n",
    "    cycle += 1\n",
    "    \n",
    "    if cycle > next_cycle\n",
    "        push!(signal_strengths, next_cycle * X)\n",
    "        next_cycle += 40\n",
    "    end\n",
    "    X += value\n",
    "end\n",
    "\n",
    "println(signal_strengths)\n",
    "println(sum(signal_strengths))"
   ]
  },
  {
   "cell_type": "code",
   "execution_count": 13,
   "metadata": {},
   "outputs": [
    {
     "name": "stdout",
     "output_type": "stream",
     "text": [
      "###  #### #  # ###  ###  #    #  # ###  \n",
      "#  # #    #  # #  # #  # #    #  # #  # \n",
      "#  # ###  #### #  # #  # #    #  # ###  \n",
      "###  #    #  # ###  ###  #    #  # #  # \n",
      "# #  #    #  # #    # #  #    #  # #  # \n",
      "#  # #### #  # #    #  # ####  ##  ###  \n"
     ]
    }
   ],
   "source": [
    "# Day 10 part 2\n",
    "\n",
    "input_file = \"data/day10_data.txt\"\n",
    "# input_file = \"data/day10_test.txt\"\n",
    "\n",
    "prog = read_cmds(input_file)\n",
    "\n",
    "next_cycle = 20\n",
    "signal_strengths = []\n",
    "cycle = 1\n",
    "X = 1\n",
    "X_reg = [1]\n",
    "for cmd in prog\n",
    "    value = 0\n",
    "    if cmd == \"noop\"\n",
    "        value = 0\n",
    "    else\n",
    "        value = parse(Int64, cmd[5:length(cmd)])\n",
    "        push!(X_reg, X)\n",
    "    end\n",
    "    X += value\n",
    "    push!(X_reg, X)\n",
    "end\n",
    "\n",
    "for row in 0:5\n",
    "    for col in 0:39\n",
    "        sprite_pos = X_reg[40 * row + col + 1]\n",
    "        if abs(sprite_pos - col) < 2\n",
    "            print(\"#\")\n",
    "        else\n",
    "            print(\" \")\n",
    "        end\n",
    "    end\n",
    "    println()\n",
    "end"
   ]
  },
  {
   "cell_type": "code",
   "execution_count": null,
   "metadata": {},
   "outputs": [],
   "source": [
    " REHPRLUB"
   ]
  }
 ],
 "metadata": {
  "kernelspec": {
   "display_name": "Julia 1.6.7",
   "language": "julia",
   "name": "julia-1.6"
  },
  "language_info": {
   "file_extension": ".jl",
   "mimetype": "application/julia",
   "name": "julia",
   "version": "1.6.7"
  },
  "orig_nbformat": 4,
  "vscode": {
   "interpreter": {
    "hash": "6e6c153b1f8581f5a503cb599a1fb433f4d3fe09258d2374dce9017af064904f"
   }
  }
 },
 "nbformat": 4,
 "nbformat_minor": 2
}
