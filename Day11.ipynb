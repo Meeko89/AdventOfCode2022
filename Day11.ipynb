{
 "cells": [
  {
   "cell_type": "code",
   "execution_count": 48,
   "metadata": {},
   "outputs": [
    {
     "data": {
      "text/plain": [
       "read_monkeys (generic function with 1 method)"
      ]
     },
     "execution_count": 48,
     "metadata": {},
     "output_type": "execute_result"
    }
   ],
   "source": [
    "function read_monkeys(filename)\n",
    "    f = open(filename)\n",
    "    monkey = Dict()\n",
    "    monkey_list = []\n",
    "    i = 0 \n",
    "    worry_modifier = 1\n",
    "    for line in readlines(f)\n",
    "        if line == \"\"\n",
    "            monkey[\"inspected\"] = 0\n",
    "            push!(monkey_list, copy(monkey))\n",
    "        elseif occursin(\"Starting items:\", line)\n",
    "            items_line = line[18:length(line)]\n",
    "            items = split(items_line, \", \")\n",
    "            monkey[\"items\"] = [parse(BigInt, string(x)) for x in items]\n",
    "        elseif occursin(\"Operation:\", line)\n",
    "            operations_line = split(line[20:length(line)], \" \")\n",
    "            monkey[\"operation\"] = [string(x) for x in operations_line]\n",
    "        elseif occursin(\"Test: \", line)\n",
    "            test_value = string(last(split(line, \" \")))\n",
    "            monkey[\"test\"] = parse(BigInt, test_value)\n",
    "            worry_modifier *= monkey[\"test\"]\n",
    "        elseif occursin(\"If true:\", line)\n",
    "            monkey[true] = parse(Int, string(last(split(line, \" \")))) + 1\n",
    "        elseif occursin(\"If false:\", line)\n",
    "            monkey[false] = parse(Int, string(last(split(line, \" \")))) + 1  \n",
    "        end\n",
    "    end\n",
    "    monkey[\"inspected\"]\n",
    "    push!(monkey_list, copy(monkey))\n",
    "    return monkey_list, worry_modifier\n",
    "end"
   ]
  },
  {
   "cell_type": "code",
   "execution_count": 49,
   "metadata": {},
   "outputs": [
    {
     "data": {
      "text/plain": [
       "throw_items (generic function with 1 method)"
      ]
     },
     "execution_count": 49,
     "metadata": {},
     "output_type": "execute_result"
    }
   ],
   "source": [
    "function inspect_item(monkey, item)\n",
    "    operation = monkey[\"operation\"]\n",
    "    test = monkey[\"test\"]\n",
    "    value = 0\n",
    "    if operation[3] == \"old\"\n",
    "        item *= item\n",
    "    elseif operation[2] == \"*\"\n",
    "        item *= parse(Int, operation[3])\n",
    "    elseif operation[2] == \"+\"\n",
    "        item += parse(Int, operation[3])        \n",
    "    end\n",
    "    \n",
    "    item = Int(floor(item/3))\n",
    "\n",
    "    dest = monkey[mod(item, test) == 0]\n",
    "    return dest, item\n",
    "end\n",
    "\n",
    "function throw_items(monkey, monkeys)\n",
    "    for item in monkeys[monkey][\"items\"]\n",
    "        dest, item = inspect_item(monkeys[monkey], item)\n",
    "        # println(\"item \", item, \" to \", dest)\n",
    "        push!(monkeys[dest][\"items\"], item)\n",
    "        monkeys[monkey][\"inspected\"] += 1\n",
    "    end\n",
    "    monkeys[monkey][\"items\"] = []\n",
    "    return monkeys\n",
    "end"
   ]
  },
  {
   "cell_type": "code",
   "execution_count": 50,
   "metadata": {},
   "outputs": [
    {
     "data": {
      "text/plain": [
       "throw_items_worry (generic function with 2 methods)"
      ]
     },
     "execution_count": 50,
     "metadata": {},
     "output_type": "execute_result"
    }
   ],
   "source": [
    "function inspect_item_worry(monkey, item::BigInt, worry_mod)\n",
    "    operation = monkey[\"operation\"]\n",
    "    test = monkey[\"test\"]\n",
    "    value = 0\n",
    "    if operation[3] == \"old\"\n",
    "        item *= item\n",
    "    elseif operation[2] == \"*\"\n",
    "        item *= parse(BigInt, operation[3])\n",
    "    elseif operation[2] == \"+\"\n",
    "        item += parse(BigInt, operation[3])\n",
    "    end\n",
    "    \n",
    "    item = mod(item, worry_mod)\n",
    "\n",
    "    dest = monkey[mod(item, test) == 0]\n",
    "    return dest, item\n",
    "end\n",
    "\n",
    "function throw_items_worry(monkey, monkeys, worry_mod)\n",
    "    for item in monkeys[monkey][\"items\"]\n",
    "        dest, item = inspect_item_worry(monkeys[monkey], item, worry_mod)\n",
    "        # println(\"item \", item, \" to \", dest)\n",
    "        push!(monkeys[dest][\"items\"], item)\n",
    "        monkeys[monkey][\"inspected\"] += 1\n",
    "    end\n",
    "    monkeys[monkey][\"items\"] = []\n",
    "    return monkeys\n",
    "end"
   ]
  },
  {
   "cell_type": "code",
   "execution_count": 51,
   "metadata": {},
   "outputs": [
    {
     "data": {
      "text/plain": [
       "print_monkeys_inspected (generic function with 1 method)"
      ]
     },
     "execution_count": 51,
     "metadata": {},
     "output_type": "execute_result"
    }
   ],
   "source": [
    "function print_monkeys(monkeys)\n",
    "    for i in 1:length(monkeys)\n",
    "        println(\"Monkey \", i-1)\n",
    "        for (key, value) in monkeys[i]\n",
    "            println(\"\\t\", key, \" : \", value)\n",
    "        end\n",
    "        println()\n",
    "    end\n",
    "end\n",
    "\n",
    "function print_monkeys_item(monkeys)\n",
    "    for i in 1:length(monkeys)\n",
    "        print(\"Monkey \", i, \": \")\n",
    "        for item in monkeys[i][\"items\"]\n",
    "            print(\"(\", typeof(item), \",\", item, \") \")\n",
    "        end\n",
    "        println()\n",
    "    end\n",
    "end\n",
    "\n",
    "function print_monkeys_inspected(monkeys)\n",
    "    for i in 1:length(monkeys)\n",
    "        println(i, \": \", monkeys[i][\"inspected\"])\n",
    "    end\n",
    "end"
   ]
  },
  {
   "cell_type": "code",
   "execution_count": 52,
   "metadata": {},
   "outputs": [
    {
     "ename": "LoadError",
     "evalue": "ArgumentError: invalid index: \"items\" of type String",
     "output_type": "error",
     "traceback": [
      "ArgumentError: invalid index: \"items\" of type String",
      "",
      "Stacktrace:",
      " [1] to_index(i::String)",
      "   @ Base .\\indices.jl:300",
      " [2] to_index(A::Vector{Any}, i::String)",
      "   @ Base .\\indices.jl:277",
      " [3] to_indices",
      "   @ .\\indices.jl:333 [inlined]",
      " [4] to_indices",
      "   @ .\\indices.jl:325 [inlined]",
      " [5] getindex",
      "   @ .\\abstractarray.jl:1170 [inlined]",
      " [6] throw_items(monkey::Int64, monkeys::Tuple{Vector{Any}, BigInt})",
      "   @ Main .\\In[49]:20",
      " [7] top-level scope",
      "   @ .\\In[52]:11",
      " [8] eval",
      "   @ .\\boot.jl:360 [inlined]",
      " [9] include_string(mapexpr::typeof(REPL.softscope), mod::Module, code::String, filename::String)",
      "   @ Base .\\loading.jl:1116"
     ]
    }
   ],
   "source": [
    "# Day 11 part 1\n",
    "\n",
    "input_file = \"data/day11_data.txt\"\n",
    "# input_file = \"data/day11_test.txt\"\n",
    "\n",
    "monkeys = read_monkeys(input_file)\n",
    "# print_monkeys(monkeys)\n",
    "\n",
    "for round in 1:20\n",
    "    for i in 1:length(monkeys)\n",
    "        monkeys = throw_items(i, monkeys)\n",
    "    end\n",
    "    # println(\"Round \", round,\": \")\n",
    "    # print_monkeys_item(monkeys)\n",
    "end\n",
    "\n",
    "# print_monkeys_item(monkeys)\n",
    "leaders = [0, 0]\n",
    "for i in 1:length(monkeys)\n",
    "    # println(i, \": \", monkeys[i][\"inspected\"])\n",
    "    inspected =  monkeys[i][\"inspected\"]\n",
    "    if inspected > leaders[1]\n",
    "        leaders[1] = inspected\n",
    "    end\n",
    "    sort!(leaders)\n",
    "    # println(leaders)\n",
    "end\n",
    "\n",
    "println(\"Res: \", leaders[1] * leaders[2])"
   ]
  },
  {
   "cell_type": "code",
   "execution_count": 53,
   "metadata": {},
   "outputs": [
    {
     "name": "stdout",
     "output_type": "stream",
     "text": [
      "1: 52166\n",
      "2: 47830\n",
      "3: 1938\n",
      "4: 52013\n",
      "Res: 2713310158\n"
     ]
    }
   ],
   "source": [
    "# Day 11 part 2\n",
    "\n",
    "input_file = \"data/day11_data.txt\"\n",
    "# input_file = \"data/day11_test.txt\"\n",
    "\n",
    "monkeys, worry_mod= read_monkeys(input_file)\n",
    "# print_monkeys(monkeys)\n",
    "ROUNDS = [1, 20, 1000, 2000, 3000, 4000, 5000, 6000, 7000, 8000, 9000, 10000]\n",
    "for round in 1:10000\n",
    "    for i in 1:length(monkeys)\n",
    "        monkeys = throw_items_worry(i, monkeys, worry_mod)\n",
    "        # print_monkeys_item(monkeys)\n",
    "    end\n",
    "    # if round in ROUNDS\n",
    "    #     println(\"Round \", round,\": \")\n",
    "    #     print_monkeys_item(monkeys)\n",
    "    #     print_monkeys_inspected(monkeys)\n",
    "    # end\n",
    "end\n",
    "\n",
    "# print_monkeys_item(monkeys)\n",
    "leaders = [0, 0]\n",
    "for i in 1:length(monkeys)\n",
    "    println(i, \": \", monkeys[i][\"inspected\"])\n",
    "    inspected =  monkeys[i][\"inspected\"]\n",
    "    if inspected > leaders[1]\n",
    "        leaders[1] = inspected\n",
    "    end\n",
    "    sort!(leaders)\n",
    "    # println(leaders)\n",
    "end\n",
    "\n",
    "println(\"Res: \", leaders[1] * leaders[2])"
   ]
  }
 ],
 "metadata": {
  "kernelspec": {
   "display_name": "Julia 1.6.7",
   "language": "julia",
   "name": "julia-1.6"
  },
  "language_info": {
   "file_extension": ".jl",
   "mimetype": "application/julia",
   "name": "julia",
   "version": "1.6.7"
  },
  "orig_nbformat": 4,
  "vscode": {
   "interpreter": {
    "hash": "6e6c153b1f8581f5a503cb599a1fb433f4d3fe09258d2374dce9017af064904f"
   }
  }
 },
 "nbformat": 4,
 "nbformat_minor": 2
}
