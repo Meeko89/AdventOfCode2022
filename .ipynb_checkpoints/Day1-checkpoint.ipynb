{
 "cells": [
  {
   "cell_type": "code",
   "execution_count": null,
   "id": "6d765bb9",
   "metadata": {},
   "outputs": [],
   "source": []
  },
  {
   "cell_type": "code",
   "execution_count": null,
   "id": "17a21d80",
   "metadata": {},
   "outputs": [],
   "source": [
    "function read_lines(filename)\n",
    "    content = []\n",
    "    f = open(filename)\n",
    "    \n",
    "    for line in readlines(f)\n",
    "        push!(content, int64(line))\n",
    "    end\n",
    "end"
   ]
  },
  {
   "cell_type": "code",
   "execution_count": null,
   "id": "fae63882",
   "metadata": {},
   "outputs": [],
   "source": [
    "data = read_lines(\"data/day1_test.txt\")"
   ]
  }
 ],
 "metadata": {
  "kernelspec": {
   "display_name": "Julia 1.6.7",
   "language": "julia",
   "name": "julia-1.6"
  },
  "language_info": {
   "file_extension": ".jl",
   "mimetype": "application/julia",
   "name": "julia",
   "version": "1.6.7"
  }
 },
 "nbformat": 4,
 "nbformat_minor": 5
}
